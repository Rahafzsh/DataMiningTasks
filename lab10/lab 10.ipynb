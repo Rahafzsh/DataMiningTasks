{
 "cells": [
  {
   "cell_type": "code",
   "execution_count": 1,
   "metadata": {},
   "outputs": [],
   "source": [
    "import numpy as np\n",
    "import matplotlib.pyplot as plt\n",
    "import seaborn as sns\n",
    "%matplotlib inline\n",
    "sns.set()\n",
    "from mpl_toolkits.mplot3d import Axes3D\n",
    "from sklearn.cluster import KMeans\n",
    "\n",
    "# Data processing\n",
    "import pandas as pd\n",
    "import numpy as np\n",
    "\n",
    "# Visualization\n",
    "import matplotlib.pyplot as plt\n",
    "import seaborn as sns\n",
    "\n",
    "# Dataset\n",
    "from sklearn import datasets\n",
    "\n",
    "# Dimensionality reduction\n",
    "from sklearn.decomposition import PCA\n",
    "from sklearn.manifold import TSNE\n",
    "\n",
    "# Modeling\n",
    "from sklearn.cluster import KMeans\n",
    "from sklearn.cluster import AgglomerativeClustering\n",
    "from sklearn.mixture import GaussianMixture\n",
    "from sklearn.cluster import DBSCAN"
   ]
  },
  {
   "cell_type": "code",
   "execution_count": 2,
   "metadata": {},
   "outputs": [
    {
     "data": {
      "text/html": [
       "<div>\n",
       "<style scoped>\n",
       "    .dataframe tbody tr th:only-of-type {\n",
       "        vertical-align: middle;\n",
       "    }\n",
       "\n",
       "    .dataframe tbody tr th {\n",
       "        vertical-align: top;\n",
       "    }\n",
       "\n",
       "    .dataframe thead th {\n",
       "        text-align: right;\n",
       "    }\n",
       "</style>\n",
       "<table border=\"1\" class=\"dataframe\">\n",
       "  <thead>\n",
       "    <tr style=\"text-align: right;\">\n",
       "      <th></th>\n",
       "      <th>InvoiceNo</th>\n",
       "      <th>StockCode</th>\n",
       "      <th>Description</th>\n",
       "      <th>Quantity</th>\n",
       "      <th>InvoiceDate</th>\n",
       "      <th>UnitPrice</th>\n",
       "      <th>CustomerID</th>\n",
       "      <th>Country</th>\n",
       "    </tr>\n",
       "  </thead>\n",
       "  <tbody>\n",
       "    <tr>\n",
       "      <th>0</th>\n",
       "      <td>536365</td>\n",
       "      <td>85123A</td>\n",
       "      <td>WHITE HANGING HEART T-LIGHT HOLDER</td>\n",
       "      <td>6.0</td>\n",
       "      <td>12/1/2010 8:26</td>\n",
       "      <td>2.55</td>\n",
       "      <td>17850.0</td>\n",
       "      <td>United Kingdom</td>\n",
       "    </tr>\n",
       "    <tr>\n",
       "      <th>1</th>\n",
       "      <td>536365</td>\n",
       "      <td>71053</td>\n",
       "      <td>WHITE METAL LANTERN</td>\n",
       "      <td>6.0</td>\n",
       "      <td>12/1/2010 8:26</td>\n",
       "      <td>3.39</td>\n",
       "      <td>17850.0</td>\n",
       "      <td>United Kingdom</td>\n",
       "    </tr>\n",
       "    <tr>\n",
       "      <th>2</th>\n",
       "      <td>536365</td>\n",
       "      <td>84406B</td>\n",
       "      <td>CREAM CUPID HEARTS COAT HANGER</td>\n",
       "      <td>8.0</td>\n",
       "      <td>12/1/2010 8:26</td>\n",
       "      <td>2.75</td>\n",
       "      <td>17850.0</td>\n",
       "      <td>United Kingdom</td>\n",
       "    </tr>\n",
       "    <tr>\n",
       "      <th>3</th>\n",
       "      <td>536365</td>\n",
       "      <td>84029G</td>\n",
       "      <td>KNITTED UNION FLAG HOT WATER BOTTLE</td>\n",
       "      <td>6.0</td>\n",
       "      <td>12/1/2010 8:26</td>\n",
       "      <td>3.39</td>\n",
       "      <td>17850.0</td>\n",
       "      <td>United Kingdom</td>\n",
       "    </tr>\n",
       "    <tr>\n",
       "      <th>4</th>\n",
       "      <td>536365</td>\n",
       "      <td>84029E</td>\n",
       "      <td>RED WOOLLY HOTTIE WHITE HEART.</td>\n",
       "      <td>6.0</td>\n",
       "      <td>12/1/2010 8:26</td>\n",
       "      <td>3.39</td>\n",
       "      <td>17850.0</td>\n",
       "      <td>United Kingdom</td>\n",
       "    </tr>\n",
       "    <tr>\n",
       "      <th>...</th>\n",
       "      <td>...</td>\n",
       "      <td>...</td>\n",
       "      <td>...</td>\n",
       "      <td>...</td>\n",
       "      <td>...</td>\n",
       "      <td>...</td>\n",
       "      <td>...</td>\n",
       "      <td>...</td>\n",
       "    </tr>\n",
       "    <tr>\n",
       "      <th>9994</th>\n",
       "      <td>537224</td>\n",
       "      <td>21361</td>\n",
       "      <td>LOVE LARGE WOOD LETTERS</td>\n",
       "      <td>1.0</td>\n",
       "      <td>12/5/2010 16:24</td>\n",
       "      <td>12.75</td>\n",
       "      <td>13174.0</td>\n",
       "      <td>United Kingdom</td>\n",
       "    </tr>\n",
       "    <tr>\n",
       "      <th>9995</th>\n",
       "      <td>537224</td>\n",
       "      <td>22622</td>\n",
       "      <td>BOX OF VINTAGE ALPHABET BLOCKS</td>\n",
       "      <td>2.0</td>\n",
       "      <td>12/5/2010 16:24</td>\n",
       "      <td>9.95</td>\n",
       "      <td>13174.0</td>\n",
       "      <td>United Kingdom</td>\n",
       "    </tr>\n",
       "    <tr>\n",
       "      <th>9996</th>\n",
       "      <td>537224</td>\n",
       "      <td>22623</td>\n",
       "      <td>BOX OF VINTAGE JIGSAW BLOCKS</td>\n",
       "      <td>2.0</td>\n",
       "      <td>12/5/2010 16:24</td>\n",
       "      <td>4.95</td>\n",
       "      <td>13174.0</td>\n",
       "      <td>United Kingdom</td>\n",
       "    </tr>\n",
       "    <tr>\n",
       "      <th>9997</th>\n",
       "      <td>537224</td>\n",
       "      <td>21363</td>\n",
       "      <td>HOME SMALL WOOD LETTERS</td>\n",
       "      <td>2.0</td>\n",
       "      <td>12/5/2010 16:24</td>\n",
       "      <td>4.95</td>\n",
       "      <td>13174.0</td>\n",
       "      <td>United Kingdom</td>\n",
       "    </tr>\n",
       "    <tr>\n",
       "      <th>9998</th>\n",
       "      <td>537224</td>\n",
       "      <td>21556</td>\n",
       "      <td>CERAMIC STRAWBERRY MONEY BOX</td>\n",
       "      <td>2.0</td>\n",
       "      <td>12/5/2010 16:24</td>\n",
       "      <td>2.55</td>\n",
       "      <td>13174.0</td>\n",
       "      <td>United Kingdom</td>\n",
       "    </tr>\n",
       "  </tbody>\n",
       "</table>\n",
       "<p>9999 rows × 8 columns</p>\n",
       "</div>"
      ],
      "text/plain": [
       "     InvoiceNo StockCode                          Description  Quantity  \\\n",
       "0       536365    85123A   WHITE HANGING HEART T-LIGHT HOLDER       6.0   \n",
       "1       536365     71053                  WHITE METAL LANTERN       6.0   \n",
       "2       536365    84406B       CREAM CUPID HEARTS COAT HANGER       8.0   \n",
       "3       536365    84029G  KNITTED UNION FLAG HOT WATER BOTTLE       6.0   \n",
       "4       536365    84029E       RED WOOLLY HOTTIE WHITE HEART.       6.0   \n",
       "...        ...       ...                                  ...       ...   \n",
       "9994    537224     21361             LOVE LARGE WOOD LETTERS        1.0   \n",
       "9995    537224     22622       BOX OF VINTAGE ALPHABET BLOCKS       2.0   \n",
       "9996    537224     22623        BOX OF VINTAGE JIGSAW BLOCKS        2.0   \n",
       "9997    537224     21363              HOME SMALL WOOD LETTERS       2.0   \n",
       "9998    537224     21556         CERAMIC STRAWBERRY MONEY BOX       2.0   \n",
       "\n",
       "          InvoiceDate  UnitPrice  CustomerID         Country  \n",
       "0      12/1/2010 8:26       2.55     17850.0  United Kingdom  \n",
       "1      12/1/2010 8:26       3.39     17850.0  United Kingdom  \n",
       "2      12/1/2010 8:26       2.75     17850.0  United Kingdom  \n",
       "3      12/1/2010 8:26       3.39     17850.0  United Kingdom  \n",
       "4      12/1/2010 8:26       3.39     17850.0  United Kingdom  \n",
       "...               ...        ...         ...             ...  \n",
       "9994  12/5/2010 16:24      12.75     13174.0  United Kingdom  \n",
       "9995  12/5/2010 16:24       9.95     13174.0  United Kingdom  \n",
       "9996  12/5/2010 16:24       4.95     13174.0  United Kingdom  \n",
       "9997  12/5/2010 16:24       4.95     13174.0  United Kingdom  \n",
       "9998  12/5/2010 16:24       2.55     13174.0  United Kingdom  \n",
       "\n",
       "[9999 rows x 8 columns]"
      ]
     },
     "execution_count": 2,
     "metadata": {},
     "output_type": "execute_result"
    }
   ],
   "source": [
    "df = pd.read_csv(\"lab10.csv\", skipinitialspace=True)\n",
    "df"
   ]
  },
  {
   "cell_type": "code",
   "execution_count": 3,
   "metadata": {},
   "outputs": [
    {
     "name": "stdout",
     "output_type": "stream",
     "text": [
      "<class 'pandas.core.frame.DataFrame'>\n",
      "RangeIndex: 9999 entries, 0 to 9998\n",
      "Data columns (total 8 columns):\n",
      " #   Column       Non-Null Count  Dtype  \n",
      "---  ------       --------------  -----  \n",
      " 0   InvoiceNo    9999 non-null   object \n",
      " 1   StockCode    9855 non-null   object \n",
      " 2   Description  9813 non-null   object \n",
      " 3   Quantity     9855 non-null   float64\n",
      " 4   InvoiceDate  9855 non-null   object \n",
      " 5   UnitPrice    9855 non-null   float64\n",
      " 6   CustomerID   7615 non-null   float64\n",
      " 7   Country      9855 non-null   object \n",
      "dtypes: float64(3), object(5)\n",
      "memory usage: 625.1+ KB\n"
     ]
    }
   ],
   "source": [
    "df.info()"
   ]
  },
  {
   "cell_type": "code",
   "execution_count": 4,
   "metadata": {},
   "outputs": [],
   "source": [
    "df = df.sample(frac=1)"
   ]
  },
  {
   "cell_type": "code",
   "execution_count": 5,
   "metadata": {},
   "outputs": [
    {
     "data": {
      "text/plain": [
       "InvoiceNo         0\n",
       "StockCode       144\n",
       "Description     186\n",
       "Quantity        144\n",
       "InvoiceDate     144\n",
       "UnitPrice       144\n",
       "CustomerID     2384\n",
       "Country         144\n",
       "dtype: int64"
      ]
     },
     "execution_count": 5,
     "metadata": {},
     "output_type": "execute_result"
    }
   ],
   "source": [
    "df.isnull().sum()"
   ]
  },
  {
   "cell_type": "code",
   "execution_count": 6,
   "metadata": {},
   "outputs": [
    {
     "data": {
      "text/html": [
       "<div>\n",
       "<style scoped>\n",
       "    .dataframe tbody tr th:only-of-type {\n",
       "        vertical-align: middle;\n",
       "    }\n",
       "\n",
       "    .dataframe tbody tr th {\n",
       "        vertical-align: top;\n",
       "    }\n",
       "\n",
       "    .dataframe thead th {\n",
       "        text-align: right;\n",
       "    }\n",
       "</style>\n",
       "<table border=\"1\" class=\"dataframe\">\n",
       "  <thead>\n",
       "    <tr style=\"text-align: right;\">\n",
       "      <th></th>\n",
       "      <th>InvoiceNo</th>\n",
       "      <th>StockCode</th>\n",
       "      <th>Description</th>\n",
       "      <th>Quantity</th>\n",
       "      <th>InvoiceDate</th>\n",
       "      <th>UnitPrice</th>\n",
       "      <th>CustomerID</th>\n",
       "      <th>Country</th>\n",
       "      <th>Invoice_Date</th>\n",
       "      <th>Invoice_Time</th>\n",
       "    </tr>\n",
       "  </thead>\n",
       "  <tbody>\n",
       "    <tr>\n",
       "      <th>5667</th>\n",
       "      <td>536865</td>\n",
       "      <td>84029G</td>\n",
       "      <td>KNITTED UNION FLAG HOT WATER BOTTLE</td>\n",
       "      <td>13.0</td>\n",
       "      <td>2010-12-03 11:28:00</td>\n",
       "      <td>8.47</td>\n",
       "      <td>NaN</td>\n",
       "      <td>United Kingdom</td>\n",
       "      <td>12/03/2010</td>\n",
       "      <td>11:28</td>\n",
       "    </tr>\n",
       "    <tr>\n",
       "      <th>9451</th>\n",
       "      <td>537202</td>\n",
       "      <td>21695</td>\n",
       "      <td>SMALL SILVER FLOWER CANDLE POT</td>\n",
       "      <td>6.0</td>\n",
       "      <td>2010-12-05 14:25:00</td>\n",
       "      <td>2.95</td>\n",
       "      <td>14506.0</td>\n",
       "      <td>United Kingdom</td>\n",
       "      <td>12/05/2010</td>\n",
       "      <td>14:25</td>\n",
       "    </tr>\n",
       "    <tr>\n",
       "      <th>457</th>\n",
       "      <td>536408</td>\n",
       "      <td>22219</td>\n",
       "      <td>LOVEBIRD HANGING DECORATION WHITE</td>\n",
       "      <td>12.0</td>\n",
       "      <td>2010-12-01 11:41:00</td>\n",
       "      <td>0.85</td>\n",
       "      <td>14307.0</td>\n",
       "      <td>United Kingdom</td>\n",
       "      <td>12/01/2010</td>\n",
       "      <td>11:41</td>\n",
       "    </tr>\n",
       "    <tr>\n",
       "      <th>33</th>\n",
       "      <td>536370</td>\n",
       "      <td>21035</td>\n",
       "      <td>SET/2 RED RETROSPOT TEA TOWELS</td>\n",
       "      <td>18.0</td>\n",
       "      <td>2010-12-01 08:45:00</td>\n",
       "      <td>2.95</td>\n",
       "      <td>12583.0</td>\n",
       "      <td>France</td>\n",
       "      <td>12/01/2010</td>\n",
       "      <td>08:45</td>\n",
       "    </tr>\n",
       "    <tr>\n",
       "      <th>869</th>\n",
       "      <td>536477</td>\n",
       "      <td>84029E</td>\n",
       "      <td>RED WOOLLY HOTTIE WHITE HEART.</td>\n",
       "      <td>24.0</td>\n",
       "      <td>2010-12-01 12:27:00</td>\n",
       "      <td>3.39</td>\n",
       "      <td>16210.0</td>\n",
       "      <td>United Kingdom</td>\n",
       "      <td>12/01/2010</td>\n",
       "      <td>12:27</td>\n",
       "    </tr>\n",
       "  </tbody>\n",
       "</table>\n",
       "</div>"
      ],
      "text/plain": [
       "     InvoiceNo StockCode                          Description  Quantity  \\\n",
       "5667    536865    84029G  KNITTED UNION FLAG HOT WATER BOTTLE      13.0   \n",
       "9451    537202     21695       SMALL SILVER FLOWER CANDLE POT       6.0   \n",
       "457     536408     22219   LOVEBIRD HANGING DECORATION WHITE       12.0   \n",
       "33      536370     21035      SET/2 RED RETROSPOT TEA TOWELS       18.0   \n",
       "869     536477    84029E       RED WOOLLY HOTTIE WHITE HEART.      24.0   \n",
       "\n",
       "             InvoiceDate  UnitPrice  CustomerID         Country Invoice_Date  \\\n",
       "5667 2010-12-03 11:28:00       8.47         NaN  United Kingdom   12/03/2010   \n",
       "9451 2010-12-05 14:25:00       2.95     14506.0  United Kingdom   12/05/2010   \n",
       "457  2010-12-01 11:41:00       0.85     14307.0  United Kingdom   12/01/2010   \n",
       "33   2010-12-01 08:45:00       2.95     12583.0          France   12/01/2010   \n",
       "869  2010-12-01 12:27:00       3.39     16210.0  United Kingdom   12/01/2010   \n",
       "\n",
       "     Invoice_Time  \n",
       "5667        11:28  \n",
       "9451        14:25  \n",
       "457         11:41  \n",
       "33          08:45  \n",
       "869         12:27  "
      ]
     },
     "execution_count": 6,
     "metadata": {},
     "output_type": "execute_result"
    }
   ],
   "source": [
    "#Parsing Dates\n",
    "#date_lengths=16 :12/12/2010 12:26\n",
    "#date_lengths=15 :12/12/2010 8:26\n",
    "#date_lengths=14 :12/1/2010 8:26\n",
    "#date_lengths=13 :1/1/2010 8:26\n",
    "date_lengths = df.InvoiceDate.str.len()\n",
    "date_lengths.value_counts()\n",
    "\n",
    "df[\"InvoiceDate\"] = pd.to_datetime(df[\"InvoiceDate\"], format=\"%m/%d/%Y %H:%M\")\n",
    "df[\"Invoice_Date\"] = df[\"InvoiceDate\"].dt.strftime(\"%m/%d/%Y\")\n",
    "df[\"Invoice_Time\"] = df[\"InvoiceDate\"].dt.strftime(\"%H:%M\")\n",
    "\n",
    "df.head()"
   ]
  },
  {
   "cell_type": "code",
   "execution_count": 7,
   "metadata": {},
   "outputs": [],
   "source": [
    "df.drop(columns=['InvoiceDate'], inplace=True)"
   ]
  },
  {
   "cell_type": "code",
   "execution_count": 8,
   "metadata": {},
   "outputs": [
    {
     "data": {
      "text/html": [
       "<div>\n",
       "<style scoped>\n",
       "    .dataframe tbody tr th:only-of-type {\n",
       "        vertical-align: middle;\n",
       "    }\n",
       "\n",
       "    .dataframe tbody tr th {\n",
       "        vertical-align: top;\n",
       "    }\n",
       "\n",
       "    .dataframe thead th {\n",
       "        text-align: right;\n",
       "    }\n",
       "</style>\n",
       "<table border=\"1\" class=\"dataframe\">\n",
       "  <thead>\n",
       "    <tr style=\"text-align: right;\">\n",
       "      <th></th>\n",
       "      <th>InvoiceNo</th>\n",
       "      <th>StockCode</th>\n",
       "      <th>Description</th>\n",
       "      <th>Quantity</th>\n",
       "      <th>UnitPrice</th>\n",
       "      <th>CustomerID</th>\n",
       "      <th>Country</th>\n",
       "      <th>Invoice_Date</th>\n",
       "      <th>Invoice_Time</th>\n",
       "    </tr>\n",
       "  </thead>\n",
       "  <tbody>\n",
       "    <tr>\n",
       "      <th>5667</th>\n",
       "      <td>536865</td>\n",
       "      <td>84029G</td>\n",
       "      <td>KNITTED UNION FLAG HOT WATER BOTTLE</td>\n",
       "      <td>13.0</td>\n",
       "      <td>8.47</td>\n",
       "      <td>NaN</td>\n",
       "      <td>United Kingdom</td>\n",
       "      <td>12/03/2010</td>\n",
       "      <td>11:28</td>\n",
       "    </tr>\n",
       "    <tr>\n",
       "      <th>9451</th>\n",
       "      <td>537202</td>\n",
       "      <td>21695</td>\n",
       "      <td>SMALL SILVER FLOWER CANDLE POT</td>\n",
       "      <td>6.0</td>\n",
       "      <td>2.95</td>\n",
       "      <td>14506.0</td>\n",
       "      <td>United Kingdom</td>\n",
       "      <td>12/05/2010</td>\n",
       "      <td>14:25</td>\n",
       "    </tr>\n",
       "    <tr>\n",
       "      <th>457</th>\n",
       "      <td>536408</td>\n",
       "      <td>22219</td>\n",
       "      <td>LOVEBIRD HANGING DECORATION WHITE</td>\n",
       "      <td>12.0</td>\n",
       "      <td>0.85</td>\n",
       "      <td>14307.0</td>\n",
       "      <td>United Kingdom</td>\n",
       "      <td>12/01/2010</td>\n",
       "      <td>11:41</td>\n",
       "    </tr>\n",
       "    <tr>\n",
       "      <th>33</th>\n",
       "      <td>536370</td>\n",
       "      <td>21035</td>\n",
       "      <td>SET/2 RED RETROSPOT TEA TOWELS</td>\n",
       "      <td>18.0</td>\n",
       "      <td>2.95</td>\n",
       "      <td>12583.0</td>\n",
       "      <td>France</td>\n",
       "      <td>12/01/2010</td>\n",
       "      <td>08:45</td>\n",
       "    </tr>\n",
       "    <tr>\n",
       "      <th>869</th>\n",
       "      <td>536477</td>\n",
       "      <td>84029E</td>\n",
       "      <td>RED WOOLLY HOTTIE WHITE HEART.</td>\n",
       "      <td>24.0</td>\n",
       "      <td>3.39</td>\n",
       "      <td>16210.0</td>\n",
       "      <td>United Kingdom</td>\n",
       "      <td>12/01/2010</td>\n",
       "      <td>12:27</td>\n",
       "    </tr>\n",
       "  </tbody>\n",
       "</table>\n",
       "</div>"
      ],
      "text/plain": [
       "     InvoiceNo StockCode                          Description  Quantity  \\\n",
       "5667    536865    84029G  KNITTED UNION FLAG HOT WATER BOTTLE      13.0   \n",
       "9451    537202     21695       SMALL SILVER FLOWER CANDLE POT       6.0   \n",
       "457     536408     22219   LOVEBIRD HANGING DECORATION WHITE       12.0   \n",
       "33      536370     21035      SET/2 RED RETROSPOT TEA TOWELS       18.0   \n",
       "869     536477    84029E       RED WOOLLY HOTTIE WHITE HEART.      24.0   \n",
       "\n",
       "      UnitPrice  CustomerID         Country Invoice_Date Invoice_Time  \n",
       "5667       8.47         NaN  United Kingdom   12/03/2010        11:28  \n",
       "9451       2.95     14506.0  United Kingdom   12/05/2010        14:25  \n",
       "457        0.85     14307.0  United Kingdom   12/01/2010        11:41  \n",
       "33         2.95     12583.0          France   12/01/2010        08:45  \n",
       "869        3.39     16210.0  United Kingdom   12/01/2010        12:27  "
      ]
     },
     "execution_count": 8,
     "metadata": {},
     "output_type": "execute_result"
    }
   ],
   "source": [
    "df.head()"
   ]
  },
  {
   "cell_type": "code",
   "execution_count": 9,
   "metadata": {},
   "outputs": [
    {
     "data": {
      "text/plain": [
       "array(['KNITTED UNION FLAG HOT WATER BOTTLE',\n",
       "       'SMALL SILVER FLOWER CANDLE POT',\n",
       "       'LOVEBIRD HANGING DECORATION WHITE ', ...,\n",
       "       'BLUE LEAVES AND BEADS PHONE CHARM',\n",
       "       'SMALL STRIPES CHOCOLATE GIFT BAG ', 'MORE BUTTER METAL SIGN '],\n",
       "      dtype=object)"
      ]
     },
     "execution_count": 9,
     "metadata": {},
     "output_type": "execute_result"
    }
   ],
   "source": [
    "df[\"Description\"].unique()"
   ]
  },
  {
   "cell_type": "code",
   "execution_count": 10,
   "metadata": {},
   "outputs": [
    {
     "name": "stdout",
     "output_type": "stream",
     "text": [
      "The number of unique values in InvoiceNo is: 654\n",
      "The number of unique values in StockCode is: 1959\n",
      "The number of unique values in Description is: 1922\n",
      "The number of unique values in Quantity is: 114\n",
      "The number of unique values in UnitPrice is: 153\n",
      "The number of unique values in CustomerID is: 322\n",
      "The number of unique values in Country is: 15\n",
      "The number of unique values in Invoice_Date is: 4\n",
      "The number of unique values in Invoice_Time is: 332\n"
     ]
    }
   ],
   "source": [
    "#Check the number of unique values\n",
    "for column in df.columns:\n",
    "    print(f'The number of unique values in {column} is: {df[column].nunique()}')"
   ]
  },
  {
   "cell_type": "code",
   "execution_count": 11,
   "metadata": {},
   "outputs": [
    {
     "name": "stdout",
     "output_type": "stream",
     "text": [
      "196\n",
      "0\n"
     ]
    }
   ],
   "source": [
    "#Check the duplicate values in df\n",
    "print(df.duplicated().sum())\n",
    "df[df.duplicated()==True]\n",
    "df = df.drop_duplicates()\n",
    "print(df.duplicated().sum())"
   ]
  },
  {
   "cell_type": "code",
   "execution_count": 12,
   "metadata": {},
   "outputs": [
    {
     "name": "stdout",
     "output_type": "stream",
     "text": [
      "InvoiceNo          0\n",
      "StockCode        143\n",
      "Description      185\n",
      "Quantity         143\n",
      "UnitPrice        143\n",
      "CustomerID      2383\n",
      "Country          143\n",
      "Invoice_Date     143\n",
      "Invoice_Time     143\n",
      "dtype: int64\n"
     ]
    }
   ],
   "source": [
    "#Data Cleaing: Missing Value\n",
    "print(df.isnull().sum())"
   ]
  },
  {
   "cell_type": "code",
   "execution_count": 13,
   "metadata": {},
   "outputs": [],
   "source": [
    "# Calculate the mean of 'Quantity' column\n",
    "mean_Quantity = df['Quantity'].mean()\n",
    "\n",
    "# Fill null values in 'Maximum Walking distance (km)' with the mean value\n",
    "df['Quantity'].fillna(mean_Quantity, inplace=True)"
   ]
  },
  {
   "cell_type": "code",
   "execution_count": 14,
   "metadata": {},
   "outputs": [],
   "source": [
    "# Calculate the mean of 'Quantity' column\n",
    "mean_UnitPrice = df['UnitPrice'].mean()\n",
    "\n",
    "# Fill null values in 'Maximum Walking distance (km)' with the mean value\n",
    "df['UnitPrice'].fillna(mean_UnitPrice, inplace=True)"
   ]
  },
  {
   "cell_type": "code",
   "execution_count": 15,
   "metadata": {},
   "outputs": [],
   "source": [
    "from sklearn.impute import SimpleImputer\n",
    "\n",
    "# Instantiate the imputer with 'most_frequent' strategy\n",
    "categorical_imputer = SimpleImputer(strategy='most_frequent')\n",
    "\n",
    "# Identify categorical columns with missing values\n",
    "categorical_columns_with_missing_values = ['Country']\n",
    "\n",
    "# Impute missing values for each categorical column\n",
    "for column in categorical_columns_with_missing_values:\n",
    "    df[column] = categorical_imputer.fit_transform(df[[column]])"
   ]
  },
  {
   "cell_type": "code",
   "execution_count": 16,
   "metadata": {},
   "outputs": [
    {
     "data": {
      "text/plain": [
       "InvoiceNo          0\n",
       "StockCode        143\n",
       "Description      185\n",
       "Quantity           0\n",
       "UnitPrice          0\n",
       "CustomerID      2383\n",
       "Country            0\n",
       "Invoice_Date     143\n",
       "Invoice_Time     143\n",
       "dtype: int64"
      ]
     },
     "execution_count": 16,
     "metadata": {},
     "output_type": "execute_result"
    }
   ],
   "source": [
    "df.isnull().sum()"
   ]
  },
  {
   "cell_type": "code",
   "execution_count": 17,
   "metadata": {},
   "outputs": [],
   "source": [
    "df.drop(columns=['CustomerID'], inplace=True)"
   ]
  },
  {
   "cell_type": "code",
   "execution_count": 18,
   "metadata": {},
   "outputs": [],
   "source": [
    "columns_to_check = ['StockCode', 'Invoice_Date','Invoice_Time', 'Description']  # List of columns to check for missing values\n",
    "df.dropna(subset=columns_to_check, inplace=True)"
   ]
  },
  {
   "cell_type": "code",
   "execution_count": 19,
   "metadata": {},
   "outputs": [
    {
     "data": {
      "text/plain": [
       "InvoiceNo       0\n",
       "StockCode       0\n",
       "Description     0\n",
       "Quantity        0\n",
       "UnitPrice       0\n",
       "Country         0\n",
       "Invoice_Date    0\n",
       "Invoice_Time    0\n",
       "dtype: int64"
      ]
     },
     "execution_count": 19,
     "metadata": {},
     "output_type": "execute_result"
    }
   ],
   "source": [
    "df.isnull().sum()"
   ]
  },
  {
   "cell_type": "code",
   "execution_count": 21,
   "metadata": {},
   "outputs": [
    {
     "name": "stdout",
     "output_type": "stream",
     "text": [
      "Statistical Analysis:\n",
      "          Quantity    UnitPrice\n",
      "count  9618.000000  9618.000000\n",
      "mean      8.066438     3.893597\n",
      "std     106.234513    14.575614\n",
      "min   -9360.000000     0.000000\n",
      "25%       1.000000     1.250000\n",
      "50%       3.000000     2.510000\n",
      "75%       8.000000     4.210000\n",
      "max    2880.000000   887.520000\n"
     ]
    }
   ],
   "source": [
    "# Describe numerical features\n",
    "numerical_features = df.select_dtypes(include='number')\n",
    "description = numerical_features.describe()\n",
    "\n",
    "\n",
    "# Display statistical analysis\n",
    "print(\"Statistical Analysis:\")\n",
    "print(description)"
   ]
  },
  {
   "cell_type": "markdown",
   "metadata": {},
   "source": [
    "### Visualize Country Column using Countplot"
   ]
  },
  {
   "cell_type": "code",
   "execution_count": 23,
   "metadata": {},
   "outputs": [
    {
     "data": {
      "image/png": "[encoded data removed]",
      "text/plain": [
       "<Figure size 640x480 with 1 Axes>"
      ]
     },
     "metadata": {},
     "output_type": "display_data"
    }
   ],
   "source": [
    "import seaborn as sns\n",
    "sns.countplot(x='Country', data=df)\n",
    "plt.title('Countplot of Column')\n",
    "plt.xlabel('Categories')\n",
    "plt.ylabel('Count')\n",
    "\n",
    "plt.xticks(rotation=45)\n",
    "plt.show()"
   ]
  },
  {
   "cell_type": "markdown",
   "metadata": {},
   "source": [
    "### Visualize Numerical Features using Histogram"
   ]
  },
  {
   "cell_type": "code",
   "execution_count": 24,
   "metadata": {},
   "outputs": [
    {
     "data": {
      "image/png": "[encoded data removed]",
      "text/plain": [
       "<Figure size 1000x500 with 2 Axes>"
      ]
     },
     "metadata": {},
     "output_type": "display_data"
    }
   ],
   "source": [
    "# Assuming 'column1' and 'column2' are the numerical columns you want to visualize\n",
    "plt.figure(figsize=(10, 5))\n",
    "\n",
    "# Histogram for column1\n",
    "plt.subplot(1, 2, 1)\n",
    "plt.hist(df['Quantity'], bins=10, color='skyblue', edgecolor='black')\n",
    "plt.title('Histogram of Quantity')\n",
    "plt.xlabel('Values')\n",
    "plt.ylabel('Frequency')\n",
    "\n",
    "# Histogram for column2\n",
    "plt.subplot(1, 2, 2)\n",
    "plt.hist(df['UnitPrice'], bins=10, color='salmon', edgecolor='black')\n",
    "plt.title('Histogram of UnitPrice')\n",
    "plt.xlabel('Values')\n",
    "plt.ylabel('Frequency')\n",
    "\n",
    "plt.tight_layout()\n",
    "plt.show()\n"
   ]
  },
  {
   "cell_type": "code",
   "execution_count": 32,
   "metadata": {},
   "outputs": [
    {
     "data": {
      "image/png": "[encoded data removed]",
      "text/plain": [
       "<Figure size 800x600 with 1 Axes>"
      ]
     },
     "metadata": {},
     "output_type": "display_data"
    }
   ],
   "source": [
    "# Assuming 'column_name' is the numeric column you want to visualize\n",
    "plt.figure(figsize=(8, 6))\n",
    "plt.boxplot(df['Quantity'], vert=False)  # vert=False for horizontal box plot\n",
    "plt.title('Boxplot of Quantity')\n",
    "plt.xlabel('Values')\n",
    "plt.ylabel('Quantity')\n",
    "plt.show()\n"
   ]
  },
  {
   "cell_type": "code",
   "execution_count": 33,
   "metadata": {},
   "outputs": [
    {
     "data": {
      "image/png": "[encoded data removed]",
      "text/plain": [
       "<Figure size 800x600 with 1 Axes>"
      ]
     },
     "metadata": {},
     "output_type": "display_data"
    }
   ],
   "source": [
    "# Assuming 'column_name' is the numeric column you want to visualize\n",
    "plt.figure(figsize=(8, 6))\n",
    "plt.boxplot(df['UnitPrice'], vert=False)  # vert=False for horizontal box plot\n",
    "plt.title('Boxplot of UnitPrice')\n",
    "plt.xlabel('Values')\n",
    "plt.ylabel('UnitPrice')\n",
    "plt.show()\n"
   ]
  },
  {
   "cell_type": "markdown",
   "metadata": {},
   "source": []
  },
  {
   "cell_type": "markdown",
   "metadata": {},
   "source": []
  }
 ],
 "metadata": {
  "kernelspec": {
   "display_name": "base",
   "language": "python",
   "name": "python3"
  },
  "language_info": {
   "codemirror_mode": {
    "name": "ipython",
    "version": 3
   },
   "file_extension": ".py",
   "mimetype": "text/x-python",
   "name": "python",
   "nbconvert_exporter": "python",
   "pygments_lexer": "ipython3",
   "version": "3.10.9"
  }
 },
 "nbformat": 4,
 "nbformat_minor": 2
}
