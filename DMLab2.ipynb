{
 "cells": [
  {
   "cell_type": "markdown",
   "metadata": {},
   "source": [
    "# Exercise 1:"
   ]
  },
  {
   "cell_type": "code",
   "execution_count": 18,
   "metadata": {},
   "outputs": [],
   "source": [
    "def sum_list(items):\n",
    "    tot=0\n",
    "    isInteger=False\n",
    "    for i in items:\n",
    "        if bool(i.isdigit())==True:\n",
    "            tot+=i\n",
    "        else:\n",
    "            print(\"sorry, we can't sum this list\")\n",
    "            break\n",
    "    return tot"
   ]
  },
  {
   "cell_type": "code",
   "execution_count": 19,
   "metadata": {},
   "outputs": [
    {
     "name": "stdout",
     "output_type": "stream",
     "text": [
      "Sample List: ['a', 2, -8]\n",
      "sorry, we can't sum this list\n",
      "Result: 0\n"
     ]
    }
   ],
   "source": [
    "integers=[\"a\",2,-8]\n",
    "print(f\"Sample List: {integers}\")\n",
    "print(f\"Result: {sum_list(integers)}\")"
   ]
  },
  {
   "cell_type": "markdown",
   "metadata": {},
   "source": [
    "# Exercise 2:"
   ]
  },
  {
   "cell_type": "code",
   "execution_count": 5,
   "metadata": {},
   "outputs": [],
   "source": [
    "def count_identical(ls):\n",
    "    count=0\n",
    "    for i in ls:\n",
    "        if len(i) and i[0]==i[-1]:\n",
    "            count+=1\n",
    "            \n",
    "    return count"
   ]
  },
  {
   "cell_type": "code",
   "execution_count": 6,
   "metadata": {},
   "outputs": [
    {
     "name": "stdout",
     "output_type": "stream",
     "text": [
      "Sample List: ['abc', 'xyz', 'aba', '1221']\n",
      "Result: 2\n"
     ]
    }
   ],
   "source": [
    "strings= ['abc', 'xyz', 'aba', '1221']\n",
    "\n",
    "print(f\"Sample List: {strings}\")\n",
    "print(f\"Result: {count_identical(strings)}\")"
   ]
  }
 ],
 "metadata": {
  "kernelspec": {
   "display_name": "Python 3",
   "language": "python",
   "name": "python3"
  },
  "language_info": {
   "codemirror_mode": {
    "name": "ipython",
    "version": 3
   },
   "file_extension": ".py",
   "mimetype": "text/x-python",
   "name": "python",
   "nbconvert_exporter": "python",
   "pygments_lexer": "ipython3",
   "version": "3.11.7"
  }
 },
 "nbformat": 4,
 "nbformat_minor": 2
}
