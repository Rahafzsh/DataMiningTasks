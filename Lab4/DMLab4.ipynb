{
 "cells": [
  {
   "cell_type": "markdown",
   "metadata": {},
   "source": [
    "# Lab 4: Understanding data through visualization"
   ]
  },
  {
   "cell_type": "markdown",
   "metadata": {},
   "source": [
    "### Task1: \n",
    "* Using the dataset from lab3\n",
    "* Add new column called threads which is the total number of threads across all nodes (i.e. the product of threads  per task and tasks per node and nodes)\n",
    "* Sort the data frame by threads\n",
    "* Plot “Presim. Time / s” and “sim. Time / s” of our dataframe as a function of threads\n",
    "* Use a dashed, red line for “Presim. Time / s”, a blue line for “sim. Time / s”.\n",
    "* Don’t forget to label your axes and to add a legend "
   ]
  },
  {
   "cell_type": "code",
   "execution_count": null,
   "metadata": {},
   "outputs": [],
   "source": []
  },
  {
   "cell_type": "markdown",
   "metadata": {},
   "source": [
    "### Task 2:\n",
    "* Perform a visual data profiling for the assigned data set\n",
    "* At least 1 visualization per member\n",
    "* Explain your findings"
   ]
  },
  {
   "cell_type": "code",
   "execution_count": null,
   "metadata": {},
   "outputs": [],
   "source": []
  }
 ],
 "metadata": {
  "language_info": {
   "name": "python"
  }
 },
 "nbformat": 4,
 "nbformat_minor": 2
}
