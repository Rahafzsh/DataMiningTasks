{
 "cells": [
  {
   "cell_type": "code",
   "execution_count": 2,
   "id": "747ea447",
   "metadata": {},
   "outputs": [],
   "source": [
    "def func():\n",
    "    while True:\n",
    "        reqloan=float(input(\"Enter the requested loan: \"))\n",
    "        salary=float(input(\"Enter your salary: \"))\n",
    "        if reqloan<0 or salary<0:\n",
    "            print(\"Please re enter a no-negative values\")\n",
    "            continue\n",
    "\n",
    "        if reqloan>5*salary:\n",
    "            print(\"Requsted amount exceeds the limits!\")\n",
    "            continue\n",
    "        \n",
    "        inter=0.05*reqloan\n",
    "        tot=reqloan+inter\n",
    "        print(\"Loan amount: {}$ \".format(reqloan))\n",
    "        print(\"user salary: {}$ \".format(salary))\n",
    "        print(\"the interest (5%): {}$ \".format(inter))\n",
    "        print(\"total amount after adding interest: {}$\".format(tot))"
   ]
  },
  {
   "cell_type": "code",
   "execution_count": null,
   "id": "2c2443cd",
   "metadata": {},
   "outputs": [
    {
     "name": "stdout",
     "output_type": "stream",
     "text": [
      "Enter the requested loan: -1\n",
      "Enter your salary: 0\n",
      "Please re enter a no-negative values\n",
      "Enter the requested loan: 1000\n",
      "Enter your salary: 50000\n",
      "Loan amount: 1000.0$ \n",
      "user salary: 50000.0$ \n",
      "the interest (5%): 50.0$ \n",
      "total amount after adding interest: 1050.0$\n",
      "Enter the requested loan: 50000\n",
      "Enter your salary: 1000\n",
      "Requsted amount exceeds the limits!\n"
     ]
    }
   ],
   "source": [
    "func()"
   ]
  },
  {
   "cell_type": "code",
   "execution_count": null,
   "id": "2273f6e5",
   "metadata": {},
   "outputs": [],
   "source": []
  }
 ],
 "metadata": {
  "kernelspec": {
   "display_name": "Python 3 (ipykernel)",
   "language": "python",
   "name": "python3"
  },
  "language_info": {
   "codemirror_mode": {
    "name": "ipython",
    "version": 3
   },
   "file_extension": ".py",
   "mimetype": "text/x-python",
   "name": "python",
   "nbconvert_exporter": "python",
   "pygments_lexer": "ipython3",
   "version": "3.11.5"
  }
 },
 "nbformat": 4,
 "nbformat_minor": 5
}
